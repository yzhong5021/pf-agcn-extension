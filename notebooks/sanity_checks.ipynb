{
 "cells": [
  {
   "cell_type": "code",
   "execution_count": 2,
   "id": "0d175f39",
   "metadata": {},
   "outputs": [],
   "source": [
    "import numpy as np"
   ]
  },
  {
   "cell_type": "code",
   "execution_count": 10,
   "id": "f23835fd",
   "metadata": {},
   "outputs": [
    {
     "name": "stdout",
     "output_type": "stream",
     "text": [
      "True\n"
     ]
    }
   ],
   "source": [
    "cc_embed = np.load(r'C:\\Users\\yoche\\OneDrive - The University of Texas at Austin\\Documents\\pf_agcn\\data\\manifests\\embeddings\\cc\\A0A0A0MT02.npy')\n",
    "print(all(cc_embed[4] == cc_embed[5]))"
   ]
  },
  {
   "cell_type": "code",
   "execution_count": null,
   "id": "b6c3acdd",
   "metadata": {},
   "outputs": [
    {
     "name": "stdout",
     "output_type": "stream",
     "text": [
      "64.0\n",
      "101\n",
      "['GO:0000228' 'GO:0000323' 'GO:0000325' 'GO:0000785' 'GO:0005575'\n",
      " 'GO:0005576' 'GO:0005615' 'GO:0005618' 'GO:0005622' 'GO:0005634'\n",
      " 'GO:0005635' 'GO:0005643' 'GO:0005654' 'GO:0005667' 'GO:0005694'\n",
      " 'GO:0005730' 'GO:0005737' 'GO:0005739' 'GO:0005740' 'GO:0005743'\n",
      " 'GO:0005759' 'GO:0005768' 'GO:0005773' 'GO:0005777' 'GO:0005783'\n",
      " 'GO:0005789' 'GO:0005794' 'GO:0005813' 'GO:0005815' 'GO:0005829'\n",
      " 'GO:0005840' 'GO:0005856' 'GO:0005886' 'GO:0005911' 'GO:0005929'\n",
      " 'GO:0009274' 'GO:0009507' 'GO:0009536' 'GO:0009986' 'GO:0012505'\n",
      " 'GO:0012506' 'GO:0015630' 'GO:0015934' 'GO:0016020' 'GO:0016604'\n",
      " 'GO:0019866' 'GO:0019867' 'GO:0030054' 'GO:0030312' 'GO:0030424'\n",
      " 'GO:0031012' 'GO:0031090' 'GO:0031410' 'GO:0031966' 'GO:0031967'\n",
      " 'GO:0031968' 'GO:0031974' 'GO:0031981' 'GO:0031982' 'GO:0031984'\n",
      " 'GO:0032991' 'GO:0042175' 'GO:0042579' 'GO:0042995' 'GO:0043005'\n",
      " 'GO:0043226' 'GO:0043227' 'GO:0043228' 'GO:0043229' 'GO:0043230'\n",
      " 'GO:0043231' 'GO:0043232' 'GO:0043233' 'GO:0044391' 'GO:0045177'\n",
      " 'GO:0045202' 'GO:0048471' 'GO:0065010' 'GO:0070013' 'GO:0070062'\n",
      " 'GO:0070161' 'GO:0071944' 'GO:0097708' 'GO:0098552' 'GO:0098588'\n",
      " 'GO:0098590' 'GO:0098796' 'GO:0098797' 'GO:0098798' 'GO:0098827'\n",
      " 'GO:0099080' 'GO:0099081' 'GO:0099512' 'GO:0110165' 'GO:0120025'\n",
      " 'GO:0140513' 'GO:0140535' 'GO:1902494' 'GO:1903561' 'GO:1990234'\n",
      " 'GO:1990904']\n"
     ]
    }
   ],
   "source": [
    "cc_prior = np.load(r'C:\\Users\\yoche\\OneDrive - The University of Texas at Austin\\Documents\\pf_agcn\\data\\manifests\\priors\\cc\\cc_prior.npz')\n",
    "print(np.sum(cc_prior['adjacency']))\n",
    "print(len(cc_prior['adjacency']))\n",
    "print(cc_prior['terms'])"
   ]
  },
  {
   "cell_type": "code",
   "execution_count": null,
   "id": "0b20a5b0",
   "metadata": {},
   "outputs": [],
   "source": []
  }
 ],
 "metadata": {
  "kernelspec": {
   "display_name": "pfagcn",
   "language": "python",
   "name": "pfagcn"
  },
  "language_info": {
   "codemirror_mode": {
    "name": "ipython",
    "version": 3
   },
   "file_extension": ".py",
   "mimetype": "text/x-python",
   "name": "python",
   "nbconvert_exporter": "python",
   "pygments_lexer": "ipython3",
   "version": "3.12.9"
  }
 },
 "nbformat": 4,
 "nbformat_minor": 5
}
