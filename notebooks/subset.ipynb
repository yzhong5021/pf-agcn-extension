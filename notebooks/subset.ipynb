{
 "cells": [
  {
   "cell_type": "code",
   "execution_count": 1,
   "id": "da159720",
   "metadata": {},
   "outputs": [
    {
     "name": "stderr",
     "output_type": "stream",
     "text": [
      "C:\\Users\\yoche\\OneDrive - The University of Texas at Austin\\Documents\\pf_agcn\\.venv\\Lib\\site-packages\\tqdm\\auto.py:21: TqdmWarning: IProgress not found. Please update jupyter and ipywidgets. See https://ipywidgets.readthedocs.io/en/stable/user_install.html\n",
      "  from .autonotebook import tqdm as notebook_tqdm\n"
     ]
    }
   ],
   "source": [
    "import pandas as pd\n",
    "from Bio import SeqIO\n",
    "import random\n",
    "from huggingface_hub import hf_hub_download"
   ]
  },
  {
   "cell_type": "code",
   "execution_count": 2,
   "id": "37c02a95",
   "metadata": {},
   "outputs": [],
   "source": [
    "NUM_TRAIN = 800\n",
    "NUM_VAL = 200\n",
    "NUM_TEST = 200"
   ]
  },
  {
   "cell_type": "code",
   "execution_count": 3,
   "id": "db37f505",
   "metadata": {},
   "outputs": [],
   "source": [
    "# file_path = hf_hub_download(\n",
    "#     repo_id=\"AmelieSchreiber/cafa_5\",\n",
    "#     filename=\"train_terms.tsv\",\n",
    "#     repo_type=\"dataset\",\n",
    "#     local_dir = r\"C:\\Users\\yoche\\OneDrive - The University of Texas at Austin\\Documents\\pf_agcn\\data\\raw\"\n",
    "# )"
   ]
  },
  {
   "cell_type": "code",
   "execution_count": 4,
   "id": "bfd53794",
   "metadata": {},
   "outputs": [],
   "source": [
    "ia_path = r\"data\\raw\\ia.txt\"\n",
    "terms_path = r\"data\\raw\\train_terms.tsv\"\n",
    "seqs_path = r\"data\\raw\\train_sequences.fasta\""
   ]
  },
  {
   "cell_type": "code",
   "execution_count": 5,
   "id": "befb7708",
   "metadata": {},
   "outputs": [],
   "source": [
    "all_seqs = list(SeqIO.parse(seqs_path, \"fasta\"))"
   ]
  },
  {
   "cell_type": "code",
   "execution_count": 6,
   "id": "e1520d39",
   "metadata": {},
   "outputs": [],
   "source": [
    "sub_seqs = random.sample(all_seqs, NUM_TRAIN + NUM_VAL + NUM_TEST)\n",
    "train_seqs = sub_seqs[:NUM_TRAIN]\n",
    "val_seqs = sub_seqs[NUM_TRAIN:NUM_TRAIN+NUM_VAL]\n",
    "test_seqs = sub_seqs[NUM_TRAIN+NUM_VAL:]"
   ]
  },
  {
   "cell_type": "code",
   "execution_count": 7,
   "id": "47e46b0c",
   "metadata": {},
   "outputs": [
    {
     "name": "stdout",
     "output_type": "stream",
     "text": [
      "800 200 200\n"
     ]
    }
   ],
   "source": [
    "train_ids = [train_seq.id for train_seq in train_seqs]\n",
    "val_ids = [val_seq.id for val_seq in val_seqs]\n",
    "test_ids = [test_seq.id for test_seq in test_seqs]\n",
    "\n",
    "print(len(train_ids), len(val_ids), len(test_ids))"
   ]
  },
  {
   "cell_type": "code",
   "execution_count": 8,
   "id": "268a7474",
   "metadata": {},
   "outputs": [],
   "source": [
    "terms = pd.read_csv(terms_path, sep = \"\\t\", index_col = None)\n",
    "train_terms = terms[terms['EntryID'].isin(train_ids)]\n",
    "val_terms = terms[terms['EntryID'].isin(val_ids)]\n",
    "test_terms = terms[terms['EntryID'].isin(test_ids)]"
   ]
  },
  {
   "cell_type": "code",
   "execution_count": 9,
   "id": "992b978a",
   "metadata": {},
   "outputs": [
    {
     "name": "stdout",
     "output_type": "stream",
     "text": [
      "800 200 200\n"
     ]
    }
   ],
   "source": [
    "print(len(set(train_terms['EntryID'])), len(set(val_terms['EntryID'])), len(set(test_terms['EntryID'])))"
   ]
  },
  {
   "cell_type": "code",
   "execution_count": 10,
   "id": "137d82d8",
   "metadata": {},
   "outputs": [],
   "source": [
    "train_terms.to_csv(r'C:\\Users\\yoche\\OneDrive - The University of Texas at Austin\\Documents\\pf_agcn\\data\\raw\\terms_train_toy.tsv', sep='\\t', index=False)\n",
    "val_terms.to_csv(r'C:\\Users\\yoche\\OneDrive - The University of Texas at Austin\\Documents\\pf_agcn\\data\\raw\\terms_val_toy.tsv', sep='\\t', index=False)\n",
    "test_terms.to_csv(r'C:\\Users\\yoche\\OneDrive - The University of Texas at Austin\\Documents\\pf_agcn\\data\\raw\\terms_test_toy.tsv', sep='\\t', index=False)"
   ]
  },
  {
   "cell_type": "code",
   "execution_count": 12,
   "id": "9ff33c83",
   "metadata": {},
   "outputs": [
    {
     "name": "stdout",
     "output_type": "stream",
     "text": [
      "Wrote splits to C:\\Users\\yoche\\OneDrive - The University of Texas at Austin\\Documents\\pf_agcn\\data\\raw\n"
     ]
    }
   ],
   "source": [
    "from pathlib import Path\n",
    "\n",
    "output_dir = Path(r\"C:\\Users\\yoche\\OneDrive - The University of Texas at Austin\\Documents\\pf_agcn\\data\\raw\")\n",
    "output_dir.mkdir(parents=True, exist_ok=True)\n",
    "\n",
    "train_file = output_dir / \"toy_train.fasta\"\n",
    "val_file = output_dir / \"toy_val.fasta\"\n",
    "test_file = output_dir / \"toy_test.fasta\"\n",
    "\n",
    "with open(train_file, \"w\") as f:\n",
    "    SeqIO.write(train_seqs, f, \"fasta\")\n",
    "\n",
    "with open(val_file, \"w\") as f:\n",
    "    SeqIO.write(val_seqs, f, \"fasta\")\n",
    "\n",
    "with open(test_file, \"w\") as f:\n",
    "    SeqIO.write(test_seqs, f, \"fasta\")\n",
    "\n",
    "print(f\"Wrote splits to {output_dir}\")"
   ]
  }
 ],
 "metadata": {
  "kernelspec": {
   "display_name": "pfagcn",
   "language": "python",
   "name": "pfagcn"
  },
  "language_info": {
   "codemirror_mode": {
    "name": "ipython",
    "version": 3
   },
   "file_extension": ".py",
   "mimetype": "text/x-python",
   "name": "python",
   "nbconvert_exporter": "python",
   "pygments_lexer": "ipython3",
   "version": "3.12.9"
  }
 },
 "nbformat": 4,
 "nbformat_minor": 5
}
